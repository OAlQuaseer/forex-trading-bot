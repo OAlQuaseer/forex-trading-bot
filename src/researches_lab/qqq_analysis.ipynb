{
 "cells": [
  {
   "cell_type": "code",
   "execution_count": 1,
   "metadata": {},
   "outputs": [],
   "source": [
    "import pandas as pd\n",
    "import numpy as np\n",
    "from numba import njit, jit\n"
   ]
  },
  {
   "cell_type": "code",
   "execution_count": 70,
   "metadata": {},
   "outputs": [],
   "source": [
    "qqq_df = pd.read_csv('QQQ_1D.csv')"
   ]
  },
  {
   "cell_type": "code",
   "execution_count": 21,
   "metadata": {},
   "outputs": [
    {
     "data": {
      "text/plain": [
       "array([         nan,          nan,          nan, ..., 429.84409011,\n",
       "       429.16982885, 429.39860024])"
      ]
     },
     "execution_count": 21,
     "metadata": {},
     "output_type": "execute_result"
    }
   ],
   "source": [
    "# Translating the EMA functionality from Pine Script code (Trading View) into Python code\n",
    "# to get the same result we see on Trading view\n",
    "# data_src : numpy.ndarray\n",
    "# returns : numpy.ndarray\n",
    "@njit\n",
    "def pine_ema(data_src, length):\n",
    "    indicator = np.empty(shape = data_src.shape, dtype= data_src.dtype)\n",
    "    smoothing_factor = 2\n",
    "    alpha = smoothing_factor / (length + 1)\n",
    "    \n",
    "\n",
    "    for i in range(len(data_src)):\n",
    "        # Edge cases\n",
    "        if i == 0:\n",
    "            indicator[i] = data_src[i]\n",
    "            continue\n",
    "        if i > 0 and np.isnan(indicator[i-1]):\n",
    "            indicator[i] = data_src[i]\n",
    "            continue\n",
    "        if np.isnan(data_src[i]):\n",
    "            indicator[i] = data_src[i]\n",
    "            continue\n",
    "        \n",
    "        # EMA formula \n",
    "        indicator[i] = ( alpha * data_src[i] ) + ( 1 - alpha ) * indicator[i-1]\n",
    "\n",
    "    indicator[ :length-1] = np.nan\n",
    "    return indicator\n",
    "\n",
    "pine_ema(qqq_df['close'].to_numpy(), 15)"
   ]
  },
  {
   "cell_type": "code",
   "execution_count": 10,
   "metadata": {},
   "outputs": [
    {
     "name": "stdout",
     "output_type": "stream",
     "text": [
      "6.2 µs ± 28.1 ns per loop (mean ± std. dev. of 7 runs, 100,000 loops each)\n"
     ]
    }
   ],
   "source": [
    "%%timeit \n",
    "pine_ema(qqq_df.close.to_numpy(), 200)"
   ]
  },
  {
   "cell_type": "code",
   "execution_count": 71,
   "metadata": {},
   "outputs": [
    {
     "data": {
      "text/plain": [
       "Index(['time', 'open', 'high', 'low', 'close', 'Volume', 'EMA_50'], dtype='object')"
      ]
     },
     "execution_count": 71,
     "metadata": {},
     "output_type": "execute_result"
    }
   ],
   "source": [
    "qqq_df['EMA_50'] = pine_ema(qqq_df.close.to_numpy(), 50)\n",
    "len(qqq_df.index)\n",
    "qqq_df.columns"
   ]
  },
  {
   "cell_type": "code",
   "execution_count": null,
   "metadata": {},
   "outputs": [],
   "source": [
    "## Appending a new row to the existing DF\n",
    "new_data_df = pd.read_csv('QQQ_1D_f9c6d.csv')\n",
    "qqq_df.loc[len(qqq_df.index)] = [new_data_df.iloc[-1].time,\n",
    "                                 new_data_df.iloc[-1].open,\n",
    "                                 new_data_df.iloc[-1].high,\n",
    "                                 new_data_df.iloc[-1].low,\n",
    "                                 new_data_df.iloc[-1].close,\n",
    "                                 new_data_df.iloc[-1].Volume,\n",
    "                                 np.nan]\n",
    "qqq_df"
   ]
  },
  {
   "cell_type": "code",
   "execution_count": null,
   "metadata": {},
   "outputs": [],
   "source": [
    "#returns the Directional Movement Index\n",
    "def dmi():\n",
    "    pass\n",
    "\n",
    "# Average True Range\n",
    "#def pine_atr"
   ]
  }
 ],
 "metadata": {
  "kernelspec": {
   "display_name": "base",
   "language": "python",
   "name": "python3"
  },
  "language_info": {
   "codemirror_mode": {
    "name": "ipython",
    "version": 3
   },
   "file_extension": ".py",
   "mimetype": "text/x-python",
   "name": "python",
   "nbconvert_exporter": "python",
   "pygments_lexer": "ipython3",
   "version": "3.12.3"
  }
 },
 "nbformat": 4,
 "nbformat_minor": 2
}
