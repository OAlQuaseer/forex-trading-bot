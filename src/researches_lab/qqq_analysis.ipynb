{
 "cells": [
  {
   "cell_type": "code",
   "execution_count": 1,
   "metadata": {},
   "outputs": [],
   "source": [
    "import pandas as pd\n",
    "import numpy as np\n",
    "from numba import njit, jit\n"
   ]
  },
  {
   "cell_type": "code",
   "execution_count": 70,
   "metadata": {},
   "outputs": [],
   "source": [
    "qqq_df = pd.read_csv('QQQ_1D.csv')"
   ]
  },
  {
   "cell_type": "code",
   "execution_count": 21,
   "metadata": {},
   "outputs": [
    {
     "data": {
      "text/plain": [
       "array([         nan,          nan,          nan, ..., 429.84409011,\n",
       "       429.16982885, 429.39860024])"
      ]
     },
     "execution_count": 21,
     "metadata": {},
     "output_type": "execute_result"
    }
   ],
   "source": [
    "# Translating the EMA functionality from Pine Script code (Trading View) into Python code\n",
    "# to get the same result we see on Trading view\n",
    "# data_src : numpy.ndarray\n",
    "# returns : numpy.ndarray\n",
    "@njit\n",
    "def pine_ema(data_src, length):\n",
    "    indicator = np.empty(shape = data_src.shape, dtype= data_src.dtype)\n",
    "    smoothing_factor = 2\n",
    "    alpha = smoothing_factor / (length + 1)\n",
    "    \n",
    "\n",
    "    for i in range(len(data_src)):\n",
    "        # Edge cases\n",
    "        if i == 0:\n",
    "            indicator[i] = data_src[i]\n",
    "            continue\n",
    "        if i > 0 and np.isnan(indicator[i-1]):\n",
    "            indicator[i] = data_src[i]\n",
    "            continue\n",
    "        if np.isnan(data_src[i]):\n",
    "            indicator[i] = data_src[i]\n",
    "            continue\n",
    "        \n",
    "        # EMA formula \n",
    "        indicator[i] = ( alpha * data_src[i] ) + ( 1 - alpha ) * indicator[i-1]\n",
    "\n",
    "    indicator[ :length-1] = np.nan\n",
    "    return indicator\n",
    "\n",
    "pine_ema(qqq_df['close'].to_numpy(), 15)"
   ]
  },
  {
   "cell_type": "code",
   "execution_count": 10,
   "metadata": {},
   "outputs": [
    {
     "name": "stdout",
     "output_type": "stream",
     "text": [
      "6.2 µs ± 28.1 ns per loop (mean ± std. dev. of 7 runs, 100,000 loops each)\n"
     ]
    }
   ],
   "source": [
    "%%timeit \n",
    "pine_ema(qqq_df.close.to_numpy(), 200)"
   ]
  },
  {
   "cell_type": "code",
   "execution_count": 71,
   "metadata": {},
   "outputs": [
    {
     "data": {
      "text/plain": [
       "Index(['time', 'open', 'high', 'low', 'close', 'Volume', 'EMA_50'], dtype='object')"
      ]
     },
     "execution_count": 71,
     "metadata": {},
     "output_type": "execute_result"
    }
   ],
   "source": [
    "qqq_df['EMA_50'] = pine_ema(qqq_df.close.to_numpy(), 50)\n",
    "len(qqq_df.index)\n",
    "qqq_df.columns"
   ]
  },
  {
   "cell_type": "code",
   "execution_count": 72,
   "metadata": {},
   "outputs": [
    {
     "data": {
      "text/html": [
       "<div>\n",
       "<style scoped>\n",
       "    .dataframe tbody tr th:only-of-type {\n",
       "        vertical-align: middle;\n",
       "    }\n",
       "\n",
       "    .dataframe tbody tr th {\n",
       "        vertical-align: top;\n",
       "    }\n",
       "\n",
       "    .dataframe thead th {\n",
       "        text-align: right;\n",
       "    }\n",
       "</style>\n",
       "<table border=\"1\" class=\"dataframe\">\n",
       "  <thead>\n",
       "    <tr style=\"text-align: right;\">\n",
       "      <th></th>\n",
       "      <th>time</th>\n",
       "      <th>open</th>\n",
       "      <th>high</th>\n",
       "      <th>low</th>\n",
       "      <th>close</th>\n",
       "      <th>Volume</th>\n",
       "      <th>EMA_50</th>\n",
       "    </tr>\n",
       "  </thead>\n",
       "  <tbody>\n",
       "    <tr>\n",
       "      <th>0</th>\n",
       "      <td>2019-12-02</td>\n",
       "      <td>205.11</td>\n",
       "      <td>205.180</td>\n",
       "      <td>201.7800</td>\n",
       "      <td>203.00</td>\n",
       "      <td>28121020</td>\n",
       "      <td>NaN</td>\n",
       "    </tr>\n",
       "    <tr>\n",
       "      <th>1</th>\n",
       "      <td>2019-12-03</td>\n",
       "      <td>200.32</td>\n",
       "      <td>201.490</td>\n",
       "      <td>199.2300</td>\n",
       "      <td>201.41</td>\n",
       "      <td>31425404</td>\n",
       "      <td>NaN</td>\n",
       "    </tr>\n",
       "    <tr>\n",
       "      <th>2</th>\n",
       "      <td>2019-12-04</td>\n",
       "      <td>202.49</td>\n",
       "      <td>202.910</td>\n",
       "      <td>202.1400</td>\n",
       "      <td>202.43</td>\n",
       "      <td>15336754</td>\n",
       "      <td>NaN</td>\n",
       "    </tr>\n",
       "    <tr>\n",
       "      <th>3</th>\n",
       "      <td>2019-12-05</td>\n",
       "      <td>203.15</td>\n",
       "      <td>203.150</td>\n",
       "      <td>201.8400</td>\n",
       "      <td>202.83</td>\n",
       "      <td>15038785</td>\n",
       "      <td>NaN</td>\n",
       "    </tr>\n",
       "    <tr>\n",
       "      <th>4</th>\n",
       "      <td>2019-12-06</td>\n",
       "      <td>204.25</td>\n",
       "      <td>205.145</td>\n",
       "      <td>204.1501</td>\n",
       "      <td>205.00</td>\n",
       "      <td>16562247</td>\n",
       "      <td>NaN</td>\n",
       "    </tr>\n",
       "    <tr>\n",
       "      <th>...</th>\n",
       "      <td>...</td>\n",
       "      <td>...</td>\n",
       "      <td>...</td>\n",
       "      <td>...</td>\n",
       "      <td>...</td>\n",
       "      <td>...</td>\n",
       "      <td>...</td>\n",
       "    </tr>\n",
       "    <tr>\n",
       "      <th>1104</th>\n",
       "      <td>2024-04-23</td>\n",
       "      <td>420.77</td>\n",
       "      <td>426.280</td>\n",
       "      <td>418.8715</td>\n",
       "      <td>425.07</td>\n",
       "      <td>44384741</td>\n",
       "      <td>432.285886</td>\n",
       "    </tr>\n",
       "    <tr>\n",
       "      <th>1105</th>\n",
       "      <td>2024-04-24</td>\n",
       "      <td>428.20</td>\n",
       "      <td>429.730</td>\n",
       "      <td>424.2000</td>\n",
       "      <td>426.51</td>\n",
       "      <td>48405226</td>\n",
       "      <td>432.059381</td>\n",
       "    </tr>\n",
       "    <tr>\n",
       "      <th>1106</th>\n",
       "      <td>2024-04-25</td>\n",
       "      <td>419.24</td>\n",
       "      <td>425.320</td>\n",
       "      <td>418.1400</td>\n",
       "      <td>424.45</td>\n",
       "      <td>57360968</td>\n",
       "      <td>431.760973</td>\n",
       "    </tr>\n",
       "    <tr>\n",
       "      <th>1107</th>\n",
       "      <td>2024-04-26</td>\n",
       "      <td>427.62</td>\n",
       "      <td>432.550</td>\n",
       "      <td>426.9200</td>\n",
       "      <td>431.00</td>\n",
       "      <td>41859388</td>\n",
       "      <td>431.731131</td>\n",
       "    </tr>\n",
       "    <tr>\n",
       "      <th>1108</th>\n",
       "      <td>2024-04-29</td>\n",
       "      <td>433.13</td>\n",
       "      <td>433.760</td>\n",
       "      <td>429.9800</td>\n",
       "      <td>432.75</td>\n",
       "      <td>30019212</td>\n",
       "      <td>NaN</td>\n",
       "    </tr>\n",
       "  </tbody>\n",
       "</table>\n",
       "<p>1109 rows × 7 columns</p>\n",
       "</div>"
      ],
      "text/plain": [
       "            time    open     high       low   close    Volume      EMA_50\n",
       "0     2019-12-02  205.11  205.180  201.7800  203.00  28121020         NaN\n",
       "1     2019-12-03  200.32  201.490  199.2300  201.41  31425404         NaN\n",
       "2     2019-12-04  202.49  202.910  202.1400  202.43  15336754         NaN\n",
       "3     2019-12-05  203.15  203.150  201.8400  202.83  15038785         NaN\n",
       "4     2019-12-06  204.25  205.145  204.1501  205.00  16562247         NaN\n",
       "...          ...     ...      ...       ...     ...       ...         ...\n",
       "1104  2024-04-23  420.77  426.280  418.8715  425.07  44384741  432.285886\n",
       "1105  2024-04-24  428.20  429.730  424.2000  426.51  48405226  432.059381\n",
       "1106  2024-04-25  419.24  425.320  418.1400  424.45  57360968  431.760973\n",
       "1107  2024-04-26  427.62  432.550  426.9200  431.00  41859388  431.731131\n",
       "1108  2024-04-29  433.13  433.760  429.9800  432.75  30019212         NaN\n",
       "\n",
       "[1109 rows x 7 columns]"
      ]
     },
     "execution_count": 72,
     "metadata": {},
     "output_type": "execute_result"
    }
   ],
   "source": [
    "## Appending a new row to the existing DF\n",
    "new_data_df = pd.read_csv('QQQ_1D_f9c6d.csv')\n",
    "qqq_df.loc[len(qqq_df.index)] = [new_data_df.iloc[-1].time,\n",
    "                                 new_data_df.iloc[-1].open,\n",
    "                                 new_data_df.iloc[-1].high,\n",
    "                                 new_data_df.iloc[-1].low,\n",
    "                                 new_data_df.iloc[-1].close,\n",
    "                                 new_data_df.iloc[-1].Volume,\n",
    "                                 np.nan]\n",
    "qqq_df"
   ]
  }
 ],
 "metadata": {
  "kernelspec": {
   "display_name": "base",
   "language": "python",
   "name": "python3"
  },
  "language_info": {
   "codemirror_mode": {
    "name": "ipython",
    "version": 3
   },
   "file_extension": ".py",
   "mimetype": "text/x-python",
   "name": "python",
   "nbconvert_exporter": "python",
   "pygments_lexer": "ipython3",
   "version": "3.12.3"
  }
 },
 "nbformat": 4,
 "nbformat_minor": 2
}
